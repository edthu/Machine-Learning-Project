{
 "cells": [
  {
   "cell_type": "code",
   "execution_count": null,
   "id": "68c34249-2344-4d0e-a005-f705e76380f9",
   "metadata": {
    "tags": []
   },
   "outputs": [],
   "source": [
    "# Install dependencies\n",
    "!pip install ffmpy ffmpeg pydub spleeter librosa pytube"
   ]
  },
  {
   "cell_type": "code",
   "execution_count": null,
   "id": "e9a38cd8-989d-4918-82f2-32b83ef93c64",
   "metadata": {
    "tags": []
   },
   "outputs": [],
   "source": [
    "import os, time\n",
    "from pydub import AudioSegment\n",
    "import numpy as np\n",
    "import scipy\n",
    "from ffmpy import FFmpeg\n",
    "from scipy.io import wavfile\n",
    "from scipy.signal import get_window\n",
    "import IPython.display as ipd\n",
    "import matplotlib.pyplot as plt\n",
    "import spleeter\n",
    "import librosa\n",
    "from sklearn.linear_model import LogisticRegression\n",
    "from sklearn.metrics import accuracy_score, confusion_matrix\n",
    "from sklearn.neighbors import KNeighborsClassifier\n",
    "from sklearn.model_selection import train_test_split\n",
    "from functools import reduce\n",
    "from pytube import YouTube, Playlist\n",
    "from pytube.exceptions import VideoUnavailable\n",
    "import seaborn as sns\n",
    "\n",
    "\n",
    "%matplotlib inline"
   ]
  },
  {
   "cell_type": "code",
   "execution_count": null,
   "id": "99b98bb8-186a-4e85-9a92-261b0c91ea02",
   "metadata": {
    "tags": []
   },
   "outputs": [],
   "source": [
    "# Data preprocessing: \n",
    "# 1. download song from youtube\n",
    "# 2. change the format to wav\n",
    "# 3. isolate the vocals\n",
    "# 4. cut the song into 6-second slices and label them as real or artificial\n",
    "# 5. take the mfcc of these slices"
   ]
  },
  {
   "cell_type": "code",
   "execution_count": null,
   "id": "5d4b2251-ca82-4419-86c1-e1b1713d1a76",
   "metadata": {
    "tags": []
   },
   "outputs": [],
   "source": [
    "# Helper functions for filepaths\n",
    "\n",
    "# Gets relative paths of a folders contents\n",
    "def filepaths(folder):\n",
    "    #realpath = os.path.realpath(\"mlproject.pynb\")\n",
    "    #parent_directory = os.path.dirname(realpath)\n",
    "    #folder_path = os.path.join(parent_directory, folder)\n",
    "    paths = []\n",
    "    for filename in os.listdir(folder):\n",
    "        if not filename.startswith(\".\"):\n",
    "            relative_path = os.path.join(folder, filename)\n",
    "            paths.append(relative_path)\n",
    "    return(paths)\n",
    "\n",
    "# Relative filepaths of isolated vocals\n",
    "def get_folder(folder):\n",
    "    paths = []\n",
    "    for subfolder in filepaths(folder):\n",
    "        for filename in filepaths(subfolder):\n",
    "            if not(\"accompaniment\" in filename):\n",
    "                #relative_path = os.path.join(folder, subfolder, filename)\n",
    "                paths.append(filename)\n",
    "    return(paths)"
   ]
  },
  {
   "cell_type": "code",
   "execution_count": null,
   "id": "430fd3be-cab5-4c17-b4d9-eb2aa89b8017",
   "metadata": {
    "tags": []
   },
   "outputs": [],
   "source": [
    "# Download the songs from youtube\n",
    "# format will be mp4\n",
    "\n",
    "artificial_pl = Playlist(\"https://www.youtube.com/playlist?list=PLB02wINShjkBKnLfufaEPnCupGO-SK6e4\") \n",
    "human_pl     = Playlist(\"https://www.youtube.com/playlist?list=PLenUt8-yT90h031pCIMKJLw49uZ_2b62L\")\n",
    "\n",
    "# get the length of RawAudio dirs and start from there so that not every video needs\n",
    "# to be checked\n",
    "for video in zip((artificial_pl.videos[:15]), (human_pl.videos[:15])):\n",
    "    try:\n",
    "        art_stream = video[0].streams.get_by_itag(139)\n",
    "        #real_stream = video[1].streams.get_by_itag(139)\n",
    "    except VideoUnavailable:\n",
    "        print(f'Video is unavailable, skipping.')\n",
    "    else:\n",
    "        art_stream.download(output_path=\"0RawAudio/\")\n",
    "        #real_stream.download(output_path=\"1RawAudio/\")\n",
    "        print(\"Downloaded \" + art_stream.title)\n"
   ]
  },
  {
   "cell_type": "code",
   "execution_count": null,
   "id": "f9cb0143-0683-4dfc-8adf-bca8f0f345a3",
   "metadata": {
    "tags": []
   },
   "outputs": [],
   "source": [
    "# Convert to wav\n",
    "def convert_to_wav(folder, output_dir):\n",
    "    input_dict  = {}\n",
    "    output_dict = {}\n",
    "    for song in folder:\n",
    "        name = song.split(\"/\")[1]\n",
    "        song_name   = name.split('.')[0]\n",
    "        output_name = output_dir + song_name + \".wav\" \n",
    "        print(song)\n",
    "        print(song_name + output_name)\n",
    "        os.system(\"ffmpeg -i \" + '\"' + song + '\"' + \" -ac 2 -f wav \" + '\"' + output_name + '\"')"
   ]
  },
  {
   "cell_type": "code",
   "execution_count": null,
   "id": "3cbc969c-4220-42c4-a8ca-5d76b0a9b9f0",
   "metadata": {
    "tags": []
   },
   "outputs": [],
   "source": [
    "convert_to_wav(filepaths(\"0RawAudio\"), \"0Wav/\")\n",
    "convert_to_wav(filepaths(\"1RawAudio\"), \"1Wav/\")"
   ]
  },
  {
   "cell_type": "code",
   "execution_count": null,
   "id": "e2d02821-d702-4867-babc-6c110c87fe50",
   "metadata": {
    "tags": []
   },
   "outputs": [],
   "source": [
    "features = []\n",
    "labels   = []\n",
    "\n",
    "# Take the wav-files and isolate the vocals\n",
    "def isolate(songs, output_dir):\n",
    "    # Isolate vocals\n",
    "    #output_dir = \"Vocals/ \"\n",
    "    for song in songs:\n",
    "        #split = song.split(\"/\")\n",
    "        #songName = song.split(\"/\")[1]\n",
    "        song_with_quotes = '\"' + song + '\"' \n",
    "        print(\"spleeter separate -o \" + output_dir + \" \" + song_with_quotes)\n",
    "        os.system(\"spleeter separate -o \" + output_dir + \" \" + song_with_quotes)\n",
    "        #time.sleep(45)\n",
    "        #os.system(\"rm \" + song_with_quotes)\n",
    "\n",
    "# songs: list of song by their filepath\n",
    "# label: 0 for artificial 1 for real\n",
    "# all songs in songFolder are excpected to be of one type\n",
    "def split(songs, label):\n",
    "    # Slice the vocals of every \n",
    "    # they might be different length so only continue until a full 6-second slice cannot\n",
    "    # be made\n",
    "    \n",
    "    for song in songs:\n",
    "        # start and endtimes in milliseconds\n",
    "        t1 = 0\n",
    "        t2 = 6000\n",
    "        while t2 < librosa.get_duration(path=song) * 1000:\n",
    "            songName = song.split(\"/\")[1] + str(t1) + \"-\" + str(t2)\n",
    "            name_with_quotes = '\"' + songName + \".wav\" + '\"'\n",
    "            newAudio = AudioSegment.from_wav(song)\n",
    "            newAudio = newAudio[t1:t2]\n",
    "            newAudio.export(\"AudioSplices/\" + name_with_quotes, format=\"wav\")\n",
    "            t1, t2 = t1 + 6000, t2 + 6000\n",
    "            # Every slice of audio is a new datapoint, add to label-vector\n",
    "            # every 6s slice results in an mfcc array that has 259 rows,\n",
    "            # add this to the label-vector so that the samples are properly\n",
    "            # labeled\n",
    "            labels.extend([label] * 259)\n",
    "        t1, t2 = 0, 6000\n",
    "        \n",
    "\n",
    "def get_mfcc(songs):\n",
    "    for song in songs:\n",
    "        y, sr = librosa.load(song)\n",
    "        mfccs = librosa.feature.mfcc(y=y, sr=sr, n_mfcc=32, \n",
    "                                     window=scipy.signal.windows.hann)\n",
    "        features.append(mfccs)"
   ]
  },
  {
   "cell_type": "code",
   "execution_count": null,
   "id": "962b97ce-edd1-4818-be96-46471f28d815",
   "metadata": {
    "tags": []
   },
   "outputs": [],
   "source": [
    "os.system(\"rm -r AudioSplices/\")\n",
    "os.system(\"mkdir AudioSplices\")\n",
    "isolate((filepaths(\"0Wav\")), \"0Isolated/\")\n",
    "isolate((filepaths(\"1Wav\")), \"1Isolated/\")\n",
    "split(get_folder(\"0Isolated\"), 0)\n",
    "split(get_folder(\"1Isolated\"), 1)\n",
    "get_mfcc(filepaths(\"AudioSplices\"))\n",
    "get_mfcc(filepaths(\"AudioSplices1\"))"
   ]
  },
  {
   "cell_type": "code",
   "execution_count": null,
   "id": "32bfd2aa-0046-419c-b3ab-6daeea7cdc3a",
   "metadata": {
    "tags": []
   },
   "outputs": [],
   "source": [
    "def generate_confusion_matrix(y_true, y_pred):\n",
    "    # visualize the confusion matrix\n",
    "    ax = plt.subplot()\n",
    "    c_mat = confusion_matrix(y_true, y_pred)\n",
    "    sns.heatmap(c_mat, annot=True, fmt='g', ax=ax)\n",
    "\n",
    "    ax.set_xlabel('Predicted labels', fontsize=15)\n",
    "    ax.set_ylabel('True labels', fontsize=15)\n",
    "    ax.set_title('Confusion Matrix', fontsize=15)"
   ]
  },
  {
   "cell_type": "code",
   "execution_count": null,
   "id": "fa446519-850e-48fb-bb96-a54e4e46e7bb",
   "metadata": {
    "tags": []
   },
   "outputs": [],
   "source": [
    "# Fit and test logistic regression model\n",
    "X = reduce(lambda a, b: np.concatenate((a,b), axis=1), features)\n",
    "y = np.array(labels)\n",
    "\n",
    "# 80/20 split into training and testing data\n",
    "X_train, X_test, y_train, y_test = train_test_split(np.transpose(X), y, test_size=0.20, random_state=10)\n",
    "\n",
    "regr = LogisticRegression(max_iter=100000)\n",
    "regr.fit(X_train, y_train)\n",
    "y_pred = regr.predict(X_test)\n",
    "# accuracy_score uses 1/0 loss in its implementation\n",
    "accuracy = accuracy_score(y_test, y_pred)\n",
    "generate_confusion_matrix(y_test, y_pred)\n",
    "plt.show\n",
    "print(f\"Accuracy score: {100*accuracy:.2f}%\")"
   ]
  },
  {
   "cell_type": "code",
   "execution_count": null,
   "id": "6fbba6d3-1c1a-41de-9b90-e8e733677920",
   "metadata": {
    "tags": []
   },
   "outputs": [],
   "source": [
    "knn = KNeighborsClassifier(n_neighbors=, weights=\"distance\")\n",
    "knn.fit(X_train, y_train)\n",
    "knn_y_pred = knn.predict(X_test)\n",
    "knn_accuracy = accuracy_score(y_test, knn_y_pred)\n",
    "generate_confusion_matrix(y_test, knn_y_pred)\n",
    "plt.show\n",
    "print(f\"Accuracy score: {100*knn_accuracy:.2f}%\")"
   ]
  }
 ],
 "metadata": {
  "kernelspec": {
   "display_name": "Python 3",
   "language": "python",
   "name": "python3"
  },
  "language_info": {
   "codemirror_mode": {
    "name": "ipython",
    "version": 3
   },
   "file_extension": ".py",
   "mimetype": "text/x-python",
   "name": "python",
   "nbconvert_exporter": "python",
   "pygments_lexer": "ipython3",
   "version": "3.10.8"
  }
 },
 "nbformat": 4,
 "nbformat_minor": 5
}
